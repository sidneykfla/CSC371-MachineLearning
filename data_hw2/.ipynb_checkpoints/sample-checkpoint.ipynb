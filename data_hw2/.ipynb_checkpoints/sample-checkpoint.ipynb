{
 "cells": [
  {
   "cell_type": "code",
   "execution_count": 1,
   "id": "loose-singapore",
   "metadata": {},
   "outputs": [],
   "source": [
    "import gzip\n",
    "import numpy as np\n",
    "import matplotlib.pyplot as plt\n",
    "\n",
    "\n",
    "def load_fashion_mnist():\n",
    "    \"\"\"\n",
    "    Loads Fashion MNIST dataset.\n",
    "    \n",
    "    Adapted from: https://github.com/zalandoresearch/fashion-mnist/blob/master/utils/mnist_reader.py\n",
    "    \"\"\"\n",
    "    TRAIN_IMAGES = 'train-images-idx3-ubyte.gz'\n",
    "    TRAIN_LABELS = 'train-labels-idx1-ubyte.gz'    \n",
    "    TEST_IMAGES = 't10k-images-idx3-ubyte.gz'\n",
    "    TEST_LABELS = 't10k-labels-idx1-ubyte.gz'\n",
    "\n",
    "    with gzip.open(TRAIN_LABELS, 'rb') as tr_labels_file, gzip.open(TEST_LABELS, 'rb') as ts_labels_file:\n",
    "        train_labels = np.frombuffer(tr_labels_file.read(), dtype=np.uint8, offset=8)\n",
    "        test_labels = np.frombuffer(ts_labels_file.read(), dtype=np.uint8, offset=8)\n",
    "\n",
    "    with gzip.open(TRAIN_IMAGES, 'rb') as tr_images_file, gzip.open(TEST_IMAGES, 'rb') as ts_images_file:\n",
    "        train_images = np.frombuffer(tr_images_file.read(), dtype=np.uint8, offset=16).reshape(len(train_labels), 784)\n",
    "        test_images = np.frombuffer(ts_images_file.read(), dtype=np.uint8, offset=16).reshape(len(test_labels), 784)\n",
    "\n",
    "    return train_images, train_labels, test_images, test_labels"
   ]
  },
  {
   "cell_type": "code",
   "execution_count": 2,
   "id": "civilian-shift",
   "metadata": {},
   "outputs": [],
   "source": [
    "def pretty_print(image_example):\n",
    "    \"\"\" Pretty prints a Fashion MNIST example.\n",
    "\n",
    "    Parameters:\n",
    "        image_example: a 1x784 numpy array corresponding to the features of\n",
    "                       a single image.\n",
    "\n",
    "    Returns:\n",
    "        None.\n",
    "    \"\"\"\n",
    "    print(np.array_str(image_example, precision=1, max_line_width=116))\n"
   ]
  },
  {
   "cell_type": "code",
   "execution_count": 3,
   "id": "valuable-university",
   "metadata": {},
   "outputs": [],
   "source": [
    "def usage_example():\n",
    "    \"\"\" Example of how to load and parse Fashion MNIST data. \"\"\"\n",
    "    \n",
    "    train_images, train_labels, test_images, test_labels = load_fashion_mnist()\n",
    "\n",
    "    # train_images is a 60,000 x 784 numpy matrix. There are 60k\n",
    "    # rows in the matrix, each row corresponding to a single example.\n",
    "    # There are 784 columns, each corresponding to the value of a\n",
    "    # single pixel in the 28x28 image after it has been \"flattened\".\n",
    "    print(\"Dimensions of training set feature matrix:\", train_images.shape)\n",
    "\n",
    "    # The labels for each example are maintained separately in train_labels.\n",
    "    # This is a 60,000 x 1 numpy matrix, where each element is the label\n",
    "    # for the corresponding training example.\n",
    "    print(\"Dimensions of training set label matrix:\", train_labels.shape)\n",
    "\n",
    "    # Example of how to access a individual training example (in this case,\n",
    "    # we pick an example at a random index). We could use print to output the\n",
    "    # raw pixel values to the screen, but pretty_print formats the data in \n",
    "    # a nicer way: if you squint, you may be able to make out the contours of\n",
    "    # the fashion article in the matrix data.\n",
    "    EXAMPLE_INDEX = np.random.randint(60000)\n",
    "    print(\"Features of training example at index {}:\\n\".format(EXAMPLE_INDEX))\n",
    "    pretty_print(train_images[EXAMPLE_INDEX])\n",
    "\n",
    "    # And here's the label that goes with that training example\n",
    "    print(\"\\nLabel of training example at index {}:\".format(EXAMPLE_INDEX), train_labels[EXAMPLE_INDEX], '\\n')\n",
    "\n",
    "    # Finally, let's visualize the example we've picked as a 28x28 image\n",
    "    plt.figure()\n",
    "    plt.imshow(train_images[EXAMPLE_INDEX].reshape(28, 28))\n",
    "    plt.show()\n",
    "    \n",
    "    # The test_images/test_labels are organized in the same way, but only contain 10k\n",
    "    # examples. Don't touch this data until your model is frozen! Perform all\n",
    "    # cross-validation, model selection, hyperparameter tuning etc. on the 60k\n",
    "    # training set. Use the test set simply for reporting performance.\n"
   ]
  },
  {
   "cell_type": "code",
   "execution_count": 7,
   "id": "international-lemon",
   "metadata": {},
   "outputs": [
    {
     "name": "stdout",
     "output_type": "stream",
     "text": [
      "Dimensions of training set feature matrix: (60000, 784)\n",
      "Dimensions of training set label matrix: (60000,)\n",
      "Features of training example at index 4812:\n",
      "\n",
      "[  0   0   0   0   0   0   0   0   0   0   0   0   0   0   0   0   0   0   0   0   0   0   0   0   0   0   0   0\n",
      "   0   0   0   0   0   0   0   0   0   0   0   0   0   0   0   0   0   0   0   0   0   0   0   0   0   0   0   0\n",
      "   0   0   0   0   0   0   0   0   0   0   0   0   0   0   0   0   0   0   0   0   0   0   0   0   0   0   0   0\n",
      "   0   0   0   0   0   0   0   0   0   1   0   0   0   0   0   0   0   6   3   0   0 102 129   0   0   0   1   0\n",
      "   0   0   0   0   0   0   0   0   0   0   0   1   0   0 123 129   0   0   0   0   0 226 243  10   0   8   0   0\n",
      "   0   0   0   0   0   0   0   0   0   0   2   0   0  82 255  33   0  26 139 255 233 232 240 169   0   0   0   0\n",
      "   0   0   0   0   0   0   0   0   0   0   4   0 139 138  92 122 255 255 255 175  34 101 248 234  43   0   5   0\n",
      "   0   0   0   0   0   0   0   0   0   1   0   0 230 213 211 197  83   0   0   0   0   0 223 243 255   1   0   2\n",
      "   0   0   0   0   0   0   0   0   0   9   0 109 236 252 137   0   0  31  80 140 200 209 225 228 248 242   0   0\n",
      "   0   0   0   0   0   0   0   0   0   0   0 206 183 212 185 227 242 252 255 255 255 255 252 233 227 248 179   0\n",
      "   0   0   0   0   0   0   0   0   5   0 128  64  51 171 199 238 235 228 219 201 173 168  93 245 238 230 255  25\n",
      "   0   0   0   0   0   0   0   1   0   0 197   0 165 255 157  88  52  14   0   0   0   0   0 189 243 228 245  89\n",
      "   0   0   0   0   1   0   0   4   0  59 137   0 255 253   0   0   0   0   0   0   0   0   0 148 246 225 247 118\n",
      "   0   0   0   0   0   0   0   7   0 156  23  63 170 221 221 133  20   0   0   0   1   0   0 139 239 227 255  71\n",
      "   0   0   0   0   0   0   2   0   0 174   0 228 222 244 254 250 230 200  75   0   0   0 115 255 232 230 255  33\n",
      "   0   0   0   0   0   0   7   0 250 127  23 251 115  37 206 225 244 244 247 205  87 234 255 225 234 234 255  23\n",
      "   0   0   0   0   1   0   3   0 136   0 106 248 154   0   0   7 150 209 221 230 255 242  51 228 234 233 255   1\n",
      "   0   0   0   0   0   3   3   0   0   0   0  79 230 255 116   0   0   0 200 249 150   0  31 255 228 234 255   0\n",
      "   0   0   0   0   0   2   9   0   6   0   0   0   0 116 255 255  20 144 255  73   0   0  65 255 229 235 255   0\n",
      "   0   0   0   0   0   0   0   3   0   0   0   0   0   0   0 161 237 242  74   0   5   0  61 245 228 236 255   0\n",
      "   0   0   0   0   0   0  70 219 163   0   0   0   1   0   0   0 246 126   0   0   4   0  63 246 229 236 252   0\n",
      "   0   4   6   9   0 160 239 216 245 144   0   0   2   0   0 201 185   0   0   1   4   0  75 246 228 239 242   0\n",
      "   0   0   0   0   0  90 225 226 224 238  45   0   0   0 153 236   0   0   3   0   8   0  76 247 227 242 234   0\n",
      "   0   0  12  74  50   0 134 211 224 234 214   0   3 159 250  63   0   7   0   0   9   0  78 250 225 240 223   0\n",
      " 139 248 245 251 255 138 155 255 255 241 255 225 239 219  67   0   4   0   0   0   9   0  93 255 235 252 236   0\n",
      "  25 129 135 144 131 143 132 107  91  96  75 105  55   0   0   5   0   0   0   0   5   0  27 180 164 166 100   0\n",
      "   0   0   0   0   0   0   0   0   0   0   0   0   0   0   0   0   0   0   0   0   0   0   0   0   0   0   0   0\n",
      "   0   0   0   0   0   0   0   0   0   0   0   0   0   0   0   0   0   0   0   0   0   0   0   0   0   0   0   0]\n",
      "\n",
      "Label of training example at index 4812: 5 \n",
      "\n"
     ]
    },
    {
     "data": {
      "image/png": "[encoded data removed]",
      "text/plain": [
       "<Figure size 432x288 with 1 Axes>"
      ]
     },
     "metadata": {
      "needs_background": "light"
     },
     "output_type": "display_data"
    }
   ],
   "source": [
    "usage_example()"
   ]
  },
  {
   "cell_type": "code",
   "execution_count": 9,
   "id": "12f054eb-ad1c-4302-8a4a-010b3fa672ad",
   "metadata": {},
   "outputs": [],
   "source": [
    "train_images, train_labels, test_images, test_labels = load_fashion_mnist()"
   ]
  },
  {
   "cell_type": "code",
   "execution_count": 11,
   "id": "7c6bfd5c-f619-4165-a795-ddc5793d270b",
   "metadata": {},
   "outputs": [
    {
     "data": {
      "text/plain": [
       "(784,)"
      ]
     },
     "execution_count": 11,
     "metadata": {},
     "output_type": "execute_result"
    }
   ],
   "source": [
    "train_images[0].shape"
   ]
  },
  {
   "cell_type": "code",
   "execution_count": 14,
   "id": "47b16b3a-59dc-4235-8f28-e72bdf670e0e",
   "metadata": {},
   "outputs": [],
   "source": [
    "from sklearn.preprocessing import MinMaxScaler"
   ]
  },
  {
   "cell_type": "code",
   "execution_count": 18,
   "id": "ecfc1d9f-6b20-447a-9f8b-d238065580eb",
   "metadata": {},
   "outputs": [],
   "source": [
    "scaler = MinMaxScaler()\n",
    "image = train_images[0].reshape(-1,1)\n",
    "scaled = scaler.fit_transform(image)"
   ]
  },
  {
   "cell_type": "code",
   "execution_count": 22,
   "id": "21467c6d-d497-4363-9350-ed3c00764085",
   "metadata": {},
   "outputs": [
    {
     "name": "stdout",
     "output_type": "stream",
     "text": [
      "[0.  0.  0.  0.  0.  0.  0.  0.  0.  0.  0.  0.  0.  0.  0.  0.  0.  0.  0.  0.  0.  0.  0.  0.  0.  0.  0.  0.\n",
      " 0.  0.  0.  0.  0.  0.  0.  0.  0.  0.  0.  0.  0.  0.  0.  0.  0.  0.  0.  0.  0.  0.  0.  0.  0.  0.  0.  0.\n",
      " 0.  0.  0.  0.  0.  0.  0.  0.  0.  0.  0.  0.  0.  0.  0.  0.  0.  0.  0.  0.  0.  0.  0.  0.  0.  0.  0.  0.\n",
      " 0.  0.  0.  0.  0.  0.  0.  0.  0.  0.  0.  0.  0.  0.  0.  0.1 0.3 0.  0.  0.  0.  0.  0.  0.  0.  0.  0.  0.\n",
      " 0.  0.  0.  0.  0.  0.  0.  0.  0.  0.  0.  0.  0.  0.  0.1 0.5 0.5 0.2 0.2 0.  0.  0.  0.  0.  0.  0.  0.  0.\n",
      " 0.  0.  0.  0.  0.  0.  0.  0.  0.  0.  0.  0.  0.  0.  0.4 0.8 0.7 0.5 0.6 0.5 0.1 0.  0.  0.  0.  0.  0.  0.\n",
      " 0.  0.  0.  0.  0.  0.  0.  0.  0.  0.  0.  0.  0.  0.  0.6 0.9 0.8 0.7 0.4 0.6 0.6 0.4 0.3 0.1 0.3 0.5 0.3 0.1\n",
      " 0.  0.  0.  0.  0.  0.  0.  0.  0.  0.  0.  0.  0.  0.3 0.8 0.9 0.9 0.8 0.8 0.6 0.5 0.5 0.5 0.6 0.6 0.3 0.7 0.3\n",
      " 0.  0.  0.  0.  0.  0.  0.  0.  0.  0.  0.  0.  0.  0.8 0.9 0.9 0.9 0.9 0.9 0.9 0.8 0.8 0.6 0.5 0.5 0.8 0.9 0.\n",
      " 0.  0.  0.  0.  0.  0.  0.  0.  0.  0.  0.  0.  0.  0.7 0.9 0.8 0.9 0.9 0.9 0.9 0.9 0.9 0.9 0.9 0.9 1.  0.7 0.\n",
      " 0.  0.  0.  0.  0.  0.  0.  0.  0.  0.  0.  0.  0.  0.8 0.9 0.9 0.8 0.8 0.7 0.8 0.8 0.8 0.8 0.9 0.9 1.  0.8 0.\n",
      " 0.  0.  0.  0.  0.  0.  0.  0.  0.  0.  0.  0.  0.  0.9 0.9 0.8 0.9 0.8 0.7 0.9 0.8 0.9 0.9 0.8 0.9 0.8 0.8 0.2\n",
      " 0.  0.  0.  0.  0.  0.  0.  0.  0.  0.  0.  0.  0.4 1.  0.9 0.9 0.9 0.8 0.8 0.9 0.8 0.8 0.9 0.9 1.  0.5 0.7 0.2\n",
      " 0.  0.  0.  0.  0.  0.  0.  0.  0.  0.  0.  0.  0.2 0.9 0.9 0.9 0.9 0.9 0.9 0.8 0.9 0.9 0.9 0.9 0.9 0.8 0.4 0.\n",
      " 0.  0.  0.  0.  0.  0.  0.  0.  0.  0.  0.  0.  0.9 0.9 0.9 0.9 0.9 0.9 0.9 0.9 0.8 0.9 0.9 0.8 0.9 1.  0.3 0.\n",
      " 0.  0.  0.  0.  0.  0.  0.  0.  0.  0.2 0.6 0.8 0.9 0.8 0.8 0.9 0.9 0.8 0.8 0.9 0.9 0.9 0.9 0.8 0.9 1.  0.6 0.\n",
      " 0.  0.  0.  0.  0.1 0.2 0.3 0.4 0.7 0.9 0.9 0.9 0.9 0.9 0.8 0.8 0.8 0.9 0.9 0.9 0.7 0.7 1.  1.  0.9 0.9 0.8 0.\n",
      " 0.  0.2 0.7 0.8 0.9 0.9 0.9 0.8 0.8 0.8 0.8 0.8 0.8 0.6 1.  0.8 0.8 0.9 1.  1.  0.9 0.9 0.9 0.8 0.9 0.9 1.  0.\n",
      " 0.  0.8 0.9 0.9 0.9 0.8 0.8 0.8 0.8 0.8 0.8 0.9 0.9 0.3 0.6 1.  0.9 0.9 0.7 0.6 0.7 0.8 0.8 0.8 0.9 0.9 0.9 0.\n",
      " 0.4 0.9 0.8 0.8 0.9 0.9 0.9 0.9 1.  0.9 0.8 0.8 0.9 0.9 0.3 0.3 0.4 0.5 0.7 0.9 0.9 0.8 0.9 0.9 0.9 0.9 0.9 0.1\n",
      " 0.3 0.8 0.8 0.8 0.8 0.8 0.8 0.9 0.8 0.7 0.8 0.8 0.8 0.8 0.9 0.8 0.9 1.  0.9 0.9 0.9 0.8 0.8 0.9 0.9 0.9 0.9 0.3\n",
      " 0.2 0.8 0.7 0.8 0.8 0.8 0.7 0.7 0.8 0.8 0.8 0.8 0.9 0.9 0.9 0.9 0.9 0.8 0.8 0.8 0.7 0.7 0.7 0.7 0.7 0.8 0.8 0.5\n",
      " 0.  0.5 0.9 0.8 0.7 0.7 0.7 0.8 0.8 0.8 0.8 0.8 0.8 0.8 0.8 0.8 0.8 0.7 0.8 0.7 0.8 0.8 0.7 0.6 0.7 0.7 0.8 0.4\n",
      " 0.  0.  0.3 0.7 0.8 0.7 0.7 0.7 0.7 0.7 0.7 0.7 0.7 0.7 0.8 0.8 0.8 0.8 0.8 0.8 0.8 0.7 0.7 0.8 0.8 0.8 0.7 0.\n",
      " 0.  0.  0.  0.  0.3 0.8 0.9 0.9 0.9 0.9 1.  1.  1.  0.9 0.9 0.8 0.7 0.7 0.7 0.7 0.7 0.7 0.7 0.7 0.4 0.2 0.  0.\n",
      " 0.  0.  0.  0.  0.  0.  0.  0.2 0.2 0.2 0.3 0.2 0.1 0.  0.  0.  0.  0.  0.  0.  0.  0.  0.  0.  0.  0.  0.  0.\n",
      " 0.  0.  0.  0.  0.  0.  0.  0.  0.  0.  0.  0.  0.  0.  0.  0.  0.  0.  0.  0.  0.  0.  0.  0.  0.  0.  0.  0.\n",
      " 0.  0.  0.  0.  0.  0.  0.  0.  0.  0.  0.  0.  0.  0.  0.  0.  0.  0.  0.  0.  0.  0.  0.  0.  0.  0.  0.  0. ]\n"
     ]
    }
   ],
   "source": [
    "pretty_print(scaled.squeeze())"
   ]
  },
  {
   "cell_type": "code",
   "execution_count": 25,
   "id": "427f36fc-3cae-4a4b-a33c-c339e3ef18f5",
   "metadata": {},
   "outputs": [
    {
     "data": {
      "image/png": "[encoded data removed]",
      "text/plain": [
       "<Figure size 432x288 with 1 Axes>"
      ]
     },
     "metadata": {
      "needs_background": "light"
     },
     "output_type": "display_data"
    }
   ],
   "source": [
    "plt.figure()\n",
    "plt.imshow(scaled.reshape(28, 28))\n",
    "plt.show()"
   ]
  },
  {
   "cell_type": "code",
   "execution_count": null,
   "id": "70a748ec-bfb6-4121-b3a8-1eeaf52cc017",
   "metadata": {},
   "outputs": [],
   "source": [
    "#PERFORM PRINCIPAL COMPONENT ANALYSIS to reduce number of dimensions"
   ]
  }
 ],
 "metadata": {
  "kernelspec": {
   "display_name": "Python 3.8",
   "language": "python",
   "name": "python3"
  },
  "language_info": {
   "codemirror_mode": {
    "name": "ipython",
    "version": 3
   },
   "file_extension": ".py",
   "mimetype": "text/x-python",
   "name": "python",
   "nbconvert_exporter": "python",
   "pygments_lexer": "ipython3",
   "version": "3.8.6"
  }
 },
 "nbformat": 4,
 "nbformat_minor": 5
}
