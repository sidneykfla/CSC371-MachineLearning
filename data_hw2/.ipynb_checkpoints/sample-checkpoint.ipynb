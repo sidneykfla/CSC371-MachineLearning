{
 "cells": [
  {
   "cell_type": "code",
   "execution_count": 45,
   "id": "loose-singapore",
   "metadata": {},
   "outputs": [],
   "source": [
    "import gzip\n",
    "import numpy as np\n",
    "import matplotlib.pyplot as plt\n",
    "\n",
    "\n",
    "def load_fashion_mnist():\n",
    "    \"\"\"\n",
    "    Loads Fashion MNIST dataset.\n",
    "    \n",
    "    Adapted from: https://github.com/zalandoresearch/fashion-mnist/blob/master/utils/mnist_reader.py\n",
    "    \"\"\"\n",
    "    TRAIN_IMAGES = 'train-images-idx3-ubyte.gz'\n",
    "    TRAIN_LABELS = 'train-labels-idx1-ubyte.gz'    \n",
    "    TEST_IMAGES = 't10k-images-idx3-ubyte.gz'\n",
    "    TEST_LABELS = 't10k-labels-idx1-ubyte.gz'\n",
    "\n",
    "    with gzip.open(TRAIN_LABELS, 'rb') as tr_labels_file, gzip.open(TEST_LABELS, 'rb') as ts_labels_file:\n",
    "        train_labels = np.frombuffer(tr_labels_file.read(), dtype=np.uint8, offset=8)\n",
    "        test_labels = np.frombuffer(ts_labels_file.read(), dtype=np.uint8, offset=8)\n",
    "\n",
    "    with gzip.open(TRAIN_IMAGES, 'rb') as tr_images_file, gzip.open(TEST_IMAGES, 'rb') as ts_images_file:\n",
    "        train_images = np.frombuffer(tr_images_file.read(), dtype=np.uint8, offset=16).reshape(len(train_labels), 784)\n",
    "        test_images = np.frombuffer(ts_images_file.read(), dtype=np.uint8, offset=16).reshape(len(test_labels), 784)\n",
    "\n",
    "    return train_images, train_labels, test_images, test_labels"
   ]
  },
  {
   "cell_type": "code",
   "execution_count": 46,
   "id": "civilian-shift",
   "metadata": {},
   "outputs": [],
   "source": [
    "def pretty_print(image_example):\n",
    "    \"\"\" Pretty prints a Fashion MNIST example.\n",
    "\n",
    "    Parameters:\n",
    "        image_example: a 1x784 numpy array corresponding to the features of\n",
    "                       a single image.\n",
    "\n",
    "    Returns:\n",
    "        None.\n",
    "    \"\"\"\n",
    "    print(np.array_str(image_example, precision=1, max_line_width=116))\n"
   ]
  },
  {
   "cell_type": "code",
   "execution_count": 47,
   "id": "valuable-university",
   "metadata": {},
   "outputs": [],
   "source": [
    "def usage_example():\n",
    "    \"\"\" Example of how to load and parse Fashion MNIST data. \"\"\"\n",
    "    \n",
    "    train_images, train_labels, test_images, test_labels = load_fashion_mnist()\n",
    "\n",
    "    # train_images is a 60,000 x 784 numpy matrix. There are 60k\n",
    "    # rows in the matrix, each row corresponding to a single example.\n",
    "    # There are 784 columns, each corresponding to the value of a\n",
    "    # single pixel in the 28x28 image after it has been \"flattened\".\n",
    "    print(\"Dimensions of training set feature matrix:\", train_images.shape)\n",
    "\n",
    "    # The labels for each example are maintained separately in train_labels.\n",
    "    # This is a 60,000 x 1 numpy matrix, where each element is the label\n",
    "    # for the corresponding training example.\n",
    "    print(\"Dimensions of training set label matrix:\", train_labels.shape)\n",
    "\n",
    "    # Example of how to access a individual training example (in this case,\n",
    "    # we pick an example at a random index). We could use print to output the\n",
    "    # raw pixel values to the screen, but pretty_print formats the data in \n",
    "    # a nicer way: if you squint, you may be able to make out the contours of\n",
    "    # the fashion article in the matrix data.\n",
    "    EXAMPLE_INDEX = np.random.randint(60000)\n",
    "    print(\"Features of training example at index {}:\\n\".format(EXAMPLE_INDEX))\n",
    "    pretty_print(train_images[EXAMPLE_INDEX])\n",
    "\n",
    "    # And here's the label that goes with that training example\n",
    "    print(\"\\nLabel of training example at index {}:\".format(EXAMPLE_INDEX), train_labels[EXAMPLE_INDEX], '\\n')\n",
    "\n",
    "    # Finally, let's visualize the example we've picked as a 28x28 image\n",
    "    plt.figure()\n",
    "    plt.imshow(train_images[EXAMPLE_INDEX].reshape(28, 28))\n",
    "    plt.show()\n",
    "    \n",
    "    # The test_images/test_labels are organized in the same way, but only contain 10k\n",
    "    # examples. Don't touch this data until your model is frozen! Perform all\n",
    "    # cross-validation, model selection, hyperparameter tuning etc. on the 60k\n",
    "    # training set. Use the test set simply for reporting performance.\n"
   ]
  },
  {
   "cell_type": "code",
   "execution_count": 48,
   "id": "international-lemon",
   "metadata": {},
   "outputs": [
    {
     "name": "stdout",
     "output_type": "stream",
     "text": [
      "Dimensions of training set feature matrix: (60000, 784)\n",
      "Dimensions of training set label matrix: (60000,)\n",
      "Features of training example at index 141:\n",
      "\n",
      "[  0   0   0   0   0   0   0   0   0   0   0   0   0   0   0   0   0   0   0   0   0   0   0   0   0   0   0   0\n",
      "   0   0   0   0   0   0   0   0   0   0   0   0   0   0   0   0   0   0   0   0   0   0   0   0   0   0   0   0\n",
      "   0   0   0   0   0   0   0   0   0   0   0   0   0   0   0   0   0   0   0   0   0   0   0   0   0   0   0   0\n",
      "   0   0   0   0   0   0   0   0   0   0   0   0   0   0   0   0   0   0   0   0   0   0   0   0   0   0   0   0\n",
      "   0   0   0   0   0   0   0   0   0   0   0   0   0   0   0   0   0   0   0   0   0   0   0   0   0   0   0   0\n",
      "   0   0   0   0   0   0   0   0   0   0   0   0   0   0   0   0   0   0   0   0   0   0   0   0   0   0   0   0\n",
      "   0   0   0   0   0   0   0   0   0   0   0   0   0   0   0   0   0   0   0   0   0   0   0   0   0   0   0   0\n",
      "   0   0   0   0   0   0   0   0   1   1   0   1   0   0  97 157   0   0  12  13   0   0   0   0   0   0   0   0\n",
      "   0   0   0   0   0   0   0   0   0   0   2   0   0   0 167 255 146 115 200 201 196 182 181 175 146 142 123   0\n",
      "   0   0   0   0   0   0   0   0   1   0   0   1   0   0 154 226 208 147 143 171 191 205 209 218 214 215 162   0\n",
      "   0   0   0   0   0   0   0   0   0   0   1   0   0 158 192 219 179 143 157 176 187 190 185 181 178 185 174   0\n",
      "   0   0   0   0   0   0   0   0   0   5   0   0 137 177 183 207 210 167 198 189 184 189 193 183 196 184 186   0\n",
      "   0   0   0   0   0   3   3   2   1   0   0  57 255  60 167 181 159 178 187 184 180 191 202 199 199 183 203  15\n",
      "   0   2   4   4   1   0   0   0   0   3 115 124 132 180 225 191 187 174 168 174 189 194 187 168 165 173 209  55\n",
      "   0   0   0   0   0   0   0  37  95 159 146 190 200 186 218 188 188 185 187 192 170 175 155 136 153 168 202 109\n",
      "   0   2  50  56  74 103 144 164 151 114 149 183 198 184 205 186 186 202 187 194 164 113  89 132 158 184 175 149\n",
      "  70 194 148 132 121 134 137 104  97 121 182 180 188 192 218 194 180 209 203 203 204 193 197 200 209 174 143 147\n",
      " 176 177 177 178 174 164 164 158 168 168 165 188 181 194 224 214 190 190 186 177 193 203 199 192 203 198 201 119\n",
      " 176 202 193 190 190 191 188 189 190 190 182 186 187 180 199 200 180 192 189 192 185 185 184 177 189 188 195 122\n",
      "  14 121 188 221 199 206 209 236 230 231 233 229 227 235 243 235 236 238 244 241 233 243 246 234 242 231 246 146\n",
      "   0   0   0   0  40  69  94 113 122 117 115 106 107  93  77  78  60  63  75  77  84  89  80  73  74  58  56  19\n",
      "   0   0   0   0   0   0   0   0   0   0   0   0   0   0   0   0   0   0   0   0   0   0   0   0   0   0   0   0\n",
      "   0   0   0   0   0   0   0   0   0   0   0   0   0   0   0   0   0   0   0   0   0   0   0   0   0   0   0   0\n",
      "   0   0   0   0   0   0   0   0   0   0   0   0   0   0   0   0   0   0   0   0   0   0   0   0   0   0   0   0\n",
      "   0   0   0   0   0   0   0   0   0   0   0   0   0   0   0   0   0   0   0   0   0   0   0   0   0   0   0   0\n",
      "   0   0   0   0   0   0   0   0   0   0   0   0   0   0   0   0   0   0   0   0   0   0   0   0   0   0   0   0\n",
      "   0   0   0   0   0   0   0   0   0   0   0   0   0   0   0   0   0   0   0   0   0   0   0   0   0   0   0   0\n",
      "   0   0   0   0   0   0   0   0   0   0   0   0   0   0   0   0   0   0   0   0   0   0   0   0   0   0   0   0]\n",
      "\n",
      "Label of training example at index 141: 9 \n",
      "\n"
     ]
    },
    {
     "data": {
      "image/png": "[encoded data removed]",
      "text/plain": [
       "<Figure size 432x288 with 1 Axes>"
      ]
     },
     "metadata": {
      "needs_background": "light"
     },
     "output_type": "display_data"
    }
   ],
   "source": [
    "usage_example()"
   ]
  },
  {
   "cell_type": "code",
   "execution_count": 49,
   "id": "12f054eb-ad1c-4302-8a4a-010b3fa672ad",
   "metadata": {},
   "outputs": [],
   "source": [
    "train_images, train_labels, test_images, test_labels = load_fashion_mnist()"
   ]
  },
  {
   "cell_type": "code",
   "execution_count": 50,
   "id": "7c6bfd5c-f619-4165-a795-ddc5793d270b",
   "metadata": {},
   "outputs": [
    {
     "data": {
      "text/plain": [
       "(60000, 784)"
      ]
     },
     "execution_count": 50,
     "metadata": {},
     "output_type": "execute_result"
    }
   ],
   "source": [
    "train_images.shape"
   ]
  },
  {
   "cell_type": "code",
   "execution_count": 51,
   "id": "47b16b3a-59dc-4235-8f28-e72bdf670e0e",
   "metadata": {},
   "outputs": [],
   "source": [
    "from sklearn.preprocessing import MinMaxScaler"
   ]
  },
  {
   "cell_type": "code",
   "execution_count": 52,
   "id": "ecfc1d9f-6b20-447a-9f8b-d238065580eb",
   "metadata": {},
   "outputs": [],
   "source": [
    "scaler = MinMaxScaler()\n",
    "train_images_scaled = train_images\n",
    "train_images = scaler.fit_transform(train_images_scaled)\n",
    "\n",
    "test_images_scaled = test_images\n",
    "test_images = scaler.fit_transform(test_images_scaled)\n"
   ]
  },
  {
   "cell_type": "code",
   "execution_count": 53,
   "id": "1d899405-5ab3-478b-9414-9164873b6e8e",
   "metadata": {},
   "outputs": [
    {
     "name": "stdout",
     "output_type": "stream",
     "text": [
      "(60000, 784)\n"
     ]
    }
   ],
   "source": [
    "print(train_images.shape)"
   ]
  },
  {
   "cell_type": "code",
   "execution_count": 54,
   "id": "21467c6d-d497-4363-9350-ed3c00764085",
   "metadata": {},
   "outputs": [
    {
     "name": "stdout",
     "output_type": "stream",
     "text": [
      "[0.  0.  0.  0.  0.  0.  0.  0.  0.  0.  0.  0.  0.  0.  0.  0.  0.  0.  0.  0.  0.  0.  0.  0.  0.  0.  0.  0.\n",
      " 0.  0.  0.  0.  0.  0.  0.  0.  0.  0.  0.  0.  0.  0.  0.  0.  0.  0.  0.  0.  0.  0.  0.  0.  0.  0.  0.  0.\n",
      " 0.  0.  0.  0.  0.  0.  0.  0.  0.  0.  0.  0.  0.  0.  0.  0.  0.  0.  0.  0.  0.  0.  0.  0.  0.  0.  0.  0.\n",
      " 0.  0.  0.  0.  0.  0.  0.  0.  0.  0.  0.  0.  0.  0.  0.  0.1 0.3 0.  0.  0.  0.  0.  0.  0.  0.  0.  0.  0.\n",
      " 0.  0.  0.  0.  0.  0.  0.  0.  0.  0.  0.  0.  0.  0.  0.1 0.5 0.5 0.2 0.2 0.  0.  0.  0.  0.  0.  0.  0.  0.\n",
      " 0.  0.  0.  0.  0.  0.  0.  0.  0.  0.  0.  0.  0.  0.  0.4 0.8 0.7 0.5 0.6 0.5 0.1 0.  0.  0.  0.  0.  0.  0.\n",
      " 0.  0.  0.  0.  0.  0.  0.  0.  0.  0.  0.  0.  0.  0.  0.6 0.9 0.8 0.7 0.4 0.6 0.6 0.4 0.3 0.1 0.3 0.5 0.3 0.1\n",
      " 0.  0.  0.  0.  0.  0.  0.  0.  0.  0.  0.  0.  0.  0.3 0.8 0.9 0.9 0.8 0.8 0.6 0.5 0.5 0.5 0.6 0.6 0.3 0.7 0.3\n",
      " 0.  0.  0.  0.  0.  0.  0.  0.  0.  0.  0.  0.  0.  0.8 0.9 0.9 0.9 0.9 0.9 0.9 0.8 0.8 0.6 0.5 0.5 0.8 0.9 0.\n",
      " 0.  0.  0.  0.  0.  0.  0.  0.  0.  0.  0.  0.  0.  0.7 0.9 0.8 0.9 0.9 0.9 0.9 0.9 0.9 0.9 0.9 0.9 1.  0.7 0.\n",
      " 0.  0.  0.  0.  0.  0.  0.  0.  0.  0.  0.  0.  0.  0.8 0.9 0.9 0.8 0.8 0.7 0.8 0.8 0.8 0.8 0.9 0.9 1.  0.8 0.\n",
      " 0.  0.  0.  0.  0.  0.  0.  0.  0.  0.  0.  0.  0.  0.9 0.9 0.8 0.9 0.8 0.7 0.9 0.8 0.9 0.9 0.8 0.9 0.8 0.8 0.2\n",
      " 0.  0.  0.  0.  0.  0.  0.  0.  0.  0.  0.  0.  0.4 1.  0.9 0.9 0.9 0.8 0.8 0.9 0.8 0.8 0.9 0.9 1.  0.5 0.7 0.2\n",
      " 0.  0.  0.  0.  0.  0.  0.  0.  0.  0.  0.  0.  0.2 0.9 0.9 0.9 0.9 0.9 0.9 0.8 0.9 0.9 0.9 0.9 0.9 0.8 0.4 0.\n",
      " 0.  0.  0.  0.  0.  0.  0.  0.  0.  0.  0.  0.  0.9 0.9 0.9 0.9 0.9 0.9 0.9 0.9 0.8 0.9 0.9 0.8 0.9 1.  0.3 0.\n",
      " 0.  0.  0.  0.  0.  0.  0.  0.  0.  0.2 0.6 0.8 0.9 0.8 0.8 0.9 0.9 0.8 0.8 0.9 0.9 0.9 0.9 0.8 0.9 1.  0.6 0.\n",
      " 0.  0.  0.  0.  0.1 0.2 0.3 0.4 0.7 0.9 0.9 0.9 0.9 0.9 0.8 0.8 0.8 0.9 0.9 0.9 0.7 0.7 1.  1.  0.9 0.9 0.8 0.\n",
      " 0.  0.2 0.7 0.8 0.9 0.9 0.9 0.8 0.8 0.8 0.8 0.8 0.8 0.6 1.  0.8 0.8 0.9 1.  1.  0.9 0.9 0.9 0.8 0.9 0.9 1.  0.\n",
      " 0.  0.8 0.9 0.9 0.9 0.8 0.8 0.8 0.8 0.8 0.8 0.9 0.9 0.3 0.6 1.  0.9 0.9 0.7 0.6 0.7 0.8 0.8 0.8 0.9 0.9 0.9 0.\n",
      " 0.4 0.9 0.8 0.8 0.9 0.9 0.9 0.9 1.  0.9 0.8 0.8 0.9 0.9 0.3 0.3 0.4 0.5 0.7 0.9 0.9 0.8 0.9 0.9 0.9 0.9 0.9 0.1\n",
      " 0.3 0.8 0.8 0.8 0.8 0.8 0.8 0.9 0.8 0.7 0.8 0.8 0.8 0.8 0.9 0.8 0.9 1.  0.9 0.9 0.9 0.8 0.8 0.9 0.9 0.9 0.9 0.3\n",
      " 0.2 0.8 0.7 0.8 0.8 0.8 0.7 0.7 0.8 0.8 0.8 0.8 0.9 0.9 0.9 0.9 0.9 0.8 0.8 0.8 0.7 0.7 0.7 0.7 0.7 0.8 0.8 0.5\n",
      " 0.  0.5 0.9 0.8 0.7 0.7 0.7 0.8 0.8 0.8 0.8 0.8 0.8 0.8 0.8 0.8 0.8 0.7 0.8 0.7 0.8 0.8 0.7 0.6 0.7 0.7 0.8 0.4\n",
      " 0.  0.  0.3 0.7 0.8 0.7 0.7 0.7 0.7 0.7 0.7 0.7 0.7 0.7 0.8 0.8 0.8 0.8 0.8 0.8 0.8 0.7 0.7 0.8 0.8 0.8 0.7 0.\n",
      " 0.  0.  0.  0.  0.3 0.8 0.9 0.9 0.9 0.9 1.  1.  1.  0.9 0.9 0.8 0.7 0.7 0.7 0.7 0.7 0.7 0.7 0.7 0.4 0.2 0.  0.\n",
      " 0.  0.  0.  0.  0.  0.  0.  0.2 0.2 0.2 0.3 0.2 0.1 0.  0.  0.  0.  0.  0.  0.  0.  0.  0.  0.  0.  0.  0.  0.\n",
      " 0.  0.  0.  0.  0.  0.  0.  0.  0.  0.  0.  0.  0.  0.  0.  0.  0.  0.  0.  0.  0.  0.  0.  0.  0.  0.  0.  0.\n",
      " 0.  0.  0.  0.  0.  0.  0.  0.  0.  0.  0.  0.  0.  0.  0.  0.  0.  0.  0.  0.  0.  0.  0.  0.  0.  0.  0.  0. ]\n"
     ]
    }
   ],
   "source": [
    "pretty_print(train_images[0].squeeze())"
   ]
  },
  {
   "cell_type": "code",
   "execution_count": 55,
   "id": "427f36fc-3cae-4a4b-a33c-c339e3ef18f5",
   "metadata": {},
   "outputs": [
    {
     "data": {
      "image/png": "[encoded data removed]",
      "text/plain": [
       "<Figure size 432x288 with 1 Axes>"
      ]
     },
     "metadata": {
      "needs_background": "light"
     },
     "output_type": "display_data"
    }
   ],
   "source": [
    "plt.figure()\n",
    "plt.imshow(train_images[0].reshape(28, 28))\n",
    "plt.show()"
   ]
  },
  {
   "cell_type": "code",
   "execution_count": 56,
   "id": "70a748ec-bfb6-4121-b3a8-1eeaf52cc017",
   "metadata": {},
   "outputs": [],
   "source": [
    "#PERFORM PRINCIPAL COMPONENT ANALYSIS to reduce number of dimensions?\n",
    "\n",
    "#NOTE: paper uses standard scaler instead of min max (look up difference)"
   ]
  },
  {
   "cell_type": "code",
   "execution_count": 59,
   "id": "419e08c3-054d-4fbf-95e3-78633b7b0b40",
   "metadata": {},
   "outputs": [],
   "source": [
    "from sklearn.model_selection import train_test_split\n",
    "\n",
    "train_images, cross_val_images, train_labels, cross_val_labels = train_test_split(train_images, train_labels, test_size=0.2, random_state=42)\n",
    "\n"
   ]
  },
  {
   "cell_type": "code",
   "execution_count": 60,
   "id": "0881e183-0fd6-450e-9342-2d7a79d77767",
   "metadata": {},
   "outputs": [
    {
     "name": "stdout",
     "output_type": "stream",
     "text": [
      "1\n",
      "Accuracy: 0.8485833333333334\n",
      "\n",
      "3\n",
      "Accuracy: 0.8523333333333334\n",
      "\n",
      "5\n",
      "Accuracy: 0.8528333333333333\n",
      "\n",
      "7\n",
      "Accuracy: 0.8536666666666667\n",
      "\n",
      "9\n",
      "Accuracy: 0.8515833333333334\n",
      "\n"
     ]
    }
   ],
   "source": [
    "from sklearn.neighbors import KNeighborsClassifier\n",
    "\n",
    "for i in range(1, 10, 2):\n",
    "    print(i)\n",
    "    knn = KNeighborsClassifier(n_neighbors=i)\n",
    "\n",
    "    knn.fit(train_images, train_labels)\n",
    "\n",
    "    accuracy = knn.score(cross_val_images, cross_val_labels)\n",
    "    print(\"Accuracy:\", accuracy)\n",
    "    print()"
   ]
  },
  {
   "cell_type": "code",
   "execution_count": 21,
   "id": "1683e0ff-1e50-4de7-82cf-ac32ebbf8a1c",
   "metadata": {},
   "outputs": [
    {
     "name": "stdout",
     "output_type": "stream",
     "text": [
      "Accuracy: 0.846\n"
     ]
    }
   ],
   "source": []
  },
  {
   "cell_type": "code",
   "execution_count": null,
   "id": "07498043-ed67-44ef-a1ab-ff943fffb0fc",
   "metadata": {},
   "outputs": [],
   "source": []
  }
 ],
 "metadata": {
  "kernelspec": {
   "display_name": "Python 3.8",
   "language": "python",
   "name": "python3"
  },
  "language_info": {
   "codemirror_mode": {
    "name": "ipython",
    "version": 3
   },
   "file_extension": ".py",
   "mimetype": "text/x-python",
   "name": "python",
   "nbconvert_exporter": "python",
   "pygments_lexer": "ipython3",
   "version": "3.8.6"
  }
 },
 "nbformat": 4,
 "nbformat_minor": 5
}
