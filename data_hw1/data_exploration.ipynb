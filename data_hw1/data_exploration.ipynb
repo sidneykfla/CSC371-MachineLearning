{
 "cells": [
  {
   "cell_type": "code",
   "execution_count": 153,
   "id": "34f7a7ca-f133-422e-a441-c26aaf7e1139",
   "metadata": {},
   "outputs": [],
   "source": [
    "import numpy as np\n",
    "import pandas as pd\n",
    "import sklearn"
   ]
  },
  {
   "cell_type": "code",
   "execution_count": 154,
   "id": "d3cf2b49-5882-454f-8cde-fcaba4e1564f",
   "metadata": {},
   "outputs": [],
   "source": [
    "red = pd.read_csv(\"winequality-red.csv\")"
   ]
  },
  {
   "cell_type": "code",
   "execution_count": 155,
   "id": "8261ed04-d5c1-4734-b3f8-d5f9ba313d6c",
   "metadata": {},
   "outputs": [
    {
     "data": {
      "text/html": [
       "<div>\n",
       "<style scoped>\n",
       "    .dataframe tbody tr th:only-of-type {\n",
       "        vertical-align: middle;\n",
       "    }\n",
       "\n",
       "    .dataframe tbody tr th {\n",
       "        vertical-align: top;\n",
       "    }\n",
       "\n",
       "    .dataframe thead th {\n",
       "        text-align: right;\n",
       "    }\n",
       "</style>\n",
       "<table border=\"1\" class=\"dataframe\">\n",
       "  <thead>\n",
       "    <tr style=\"text-align: right;\">\n",
       "      <th></th>\n",
       "      <th>fixed acidity;\"volatile acidity\";\"citric acid\";\"residual sugar\";\"chlorides\";\"free sulfur dioxide\";\"total sulfur dioxide\";\"density\";\"pH\";\"sulphates\";\"alcohol\";\"quality\"</th>\n",
       "    </tr>\n",
       "  </thead>\n",
       "  <tbody>\n",
       "    <tr>\n",
       "      <th>0</th>\n",
       "      <td>7.4;0.7;0;1.9;0.076;11;34;0.9978;3.51;0.56;9.4;5</td>\n",
       "    </tr>\n",
       "    <tr>\n",
       "      <th>1</th>\n",
       "      <td>7.8;0.88;0;2.6;0.098;25;67;0.9968;3.2;0.68;9.8;5</td>\n",
       "    </tr>\n",
       "    <tr>\n",
       "      <th>2</th>\n",
       "      <td>7.8;0.76;0.04;2.3;0.092;15;54;0.997;3.26;0.65;...</td>\n",
       "    </tr>\n",
       "    <tr>\n",
       "      <th>3</th>\n",
       "      <td>11.2;0.28;0.56;1.9;0.075;17;60;0.998;3.16;0.58...</td>\n",
       "    </tr>\n",
       "    <tr>\n",
       "      <th>4</th>\n",
       "      <td>7.4;0.7;0;1.9;0.076;11;34;0.9978;3.51;0.56;9.4;5</td>\n",
       "    </tr>\n",
       "  </tbody>\n",
       "</table>\n",
       "</div>"
      ],
      "text/plain": [
       "  fixed acidity;\"volatile acidity\";\"citric acid\";\"residual sugar\";\"chlorides\";\"free sulfur dioxide\";\"total sulfur dioxide\";\"density\";\"pH\";\"sulphates\";\"alcohol\";\"quality\"\n",
       "0   7.4;0.7;0;1.9;0.076;11;34;0.9978;3.51;0.56;9.4;5                                                                                                                     \n",
       "1   7.8;0.88;0;2.6;0.098;25;67;0.9968;3.2;0.68;9.8;5                                                                                                                     \n",
       "2  7.8;0.76;0.04;2.3;0.092;15;54;0.997;3.26;0.65;...                                                                                                                     \n",
       "3  11.2;0.28;0.56;1.9;0.075;17;60;0.998;3.16;0.58...                                                                                                                     \n",
       "4   7.4;0.7;0;1.9;0.076;11;34;0.9978;3.51;0.56;9.4;5                                                                                                                     "
      ]
     },
     "execution_count": 155,
     "metadata": {},
     "output_type": "execute_result"
    }
   ],
   "source": [
    "red.head()"
   ]
  },
  {
   "cell_type": "code",
   "execution_count": 156,
   "id": "cd73d71f-8b8c-4a5c-98d4-fcd09c6fb8df",
   "metadata": {},
   "outputs": [],
   "source": [
    "def str_to_df(row):\n",
    "    return row.split(\";\")"
   ]
  },
  {
   "cell_type": "code",
   "execution_count": 157,
   "id": "7a6ae0f9-8941-4ae9-bd2a-82a45c5c4e2a",
   "metadata": {},
   "outputs": [],
   "source": [
    "cols = str_to_df('fixed acidity;\"volatile acidity\";\"citric acid\";\"residual sugar\";\"chlorides\";\"free sulfur dioxide\";\"total sulfur dioxide\";\"density\";\"pH\";\"sulphates\";\"alcohol\";\"quality\"')"
   ]
  },
  {
   "cell_type": "code",
   "execution_count": 158,
   "id": "f7323cdc-21e6-4562-912a-a11ab9dd92e9",
   "metadata": {},
   "outputs": [
    {
     "data": {
      "text/plain": [
       "['fixed acidity',\n",
       " '\"volatile acidity\"',\n",
       " '\"citric acid\"',\n",
       " '\"residual sugar\"',\n",
       " '\"chlorides\"',\n",
       " '\"free sulfur dioxide\"',\n",
       " '\"total sulfur dioxide\"',\n",
       " '\"density\"',\n",
       " '\"pH\"',\n",
       " '\"sulphates\"',\n",
       " '\"alcohol\"',\n",
       " '\"quality\"']"
      ]
     },
     "execution_count": 158,
     "metadata": {},
     "output_type": "execute_result"
    }
   ],
   "source": [
    "cols"
   ]
  },
  {
   "cell_type": "code",
   "execution_count": 159,
   "id": "4367fd1c-79ef-46a0-8c01-8fc67c45f9f1",
   "metadata": {},
   "outputs": [],
   "source": [
    "red_rows = red['fixed acidity;\"volatile acidity\";\"citric acid\";\"residual sugar\";\"chlorides\";\"free sulfur dioxide\";\"total sulfur dioxide\";\"density\";\"pH\";\"sulphates\";\"alcohol\";\"quality\"'].apply(str_to_df)\n",
    "\n",
    "\n",
    "\n"
   ]
  },
  {
   "cell_type": "code",
   "execution_count": 160,
   "id": "e8ec8c9c-f0c6-47ca-a6b9-62c00a66fa69",
   "metadata": {},
   "outputs": [],
   "source": [
    "data = list(red_rows)"
   ]
  },
  {
   "cell_type": "code",
   "execution_count": 161,
   "id": "6420cbc8-555b-4ab8-9f86-c9253a00a0f1",
   "metadata": {},
   "outputs": [],
   "source": [
    "for i in range(len(cols)):\n",
    "    cols[i] = cols[i].replace('\"', '')\n",
    "    cols[i] = cols[i].replace(' ', '_')"
   ]
  },
  {
   "cell_type": "code",
   "execution_count": 162,
   "id": "e4b1161e-5bbb-4579-a3f1-3d78be631a58",
   "metadata": {},
   "outputs": [],
   "source": [
    "df = pd.DataFrame(data, columns = cols)"
   ]
  },
  {
   "cell_type": "code",
   "execution_count": 163,
   "id": "b72bf8c7-7194-4957-a112-893da27d71c1",
   "metadata": {},
   "outputs": [
    {
     "data": {
      "text/html": [
       "<div>\n",
       "<style scoped>\n",
       "    .dataframe tbody tr th:only-of-type {\n",
       "        vertical-align: middle;\n",
       "    }\n",
       "\n",
       "    .dataframe tbody tr th {\n",
       "        vertical-align: top;\n",
       "    }\n",
       "\n",
       "    .dataframe thead th {\n",
       "        text-align: right;\n",
       "    }\n",
       "</style>\n",
       "<table border=\"1\" class=\"dataframe\">\n",
       "  <thead>\n",
       "    <tr style=\"text-align: right;\">\n",
       "      <th></th>\n",
       "      <th>fixed_acidity</th>\n",
       "      <th>volatile_acidity</th>\n",
       "      <th>citric_acid</th>\n",
       "      <th>residual_sugar</th>\n",
       "      <th>chlorides</th>\n",
       "      <th>free_sulfur_dioxide</th>\n",
       "      <th>total_sulfur_dioxide</th>\n",
       "      <th>density</th>\n",
       "      <th>pH</th>\n",
       "      <th>sulphates</th>\n",
       "      <th>alcohol</th>\n",
       "      <th>quality</th>\n",
       "    </tr>\n",
       "  </thead>\n",
       "  <tbody>\n",
       "    <tr>\n",
       "      <th>0</th>\n",
       "      <td>7.4</td>\n",
       "      <td>0.7</td>\n",
       "      <td>0</td>\n",
       "      <td>1.9</td>\n",
       "      <td>0.076</td>\n",
       "      <td>11</td>\n",
       "      <td>34</td>\n",
       "      <td>0.9978</td>\n",
       "      <td>3.51</td>\n",
       "      <td>0.56</td>\n",
       "      <td>9.4</td>\n",
       "      <td>5</td>\n",
       "    </tr>\n",
       "    <tr>\n",
       "      <th>1</th>\n",
       "      <td>7.8</td>\n",
       "      <td>0.88</td>\n",
       "      <td>0</td>\n",
       "      <td>2.6</td>\n",
       "      <td>0.098</td>\n",
       "      <td>25</td>\n",
       "      <td>67</td>\n",
       "      <td>0.9968</td>\n",
       "      <td>3.2</td>\n",
       "      <td>0.68</td>\n",
       "      <td>9.8</td>\n",
       "      <td>5</td>\n",
       "    </tr>\n",
       "    <tr>\n",
       "      <th>2</th>\n",
       "      <td>7.8</td>\n",
       "      <td>0.76</td>\n",
       "      <td>0.04</td>\n",
       "      <td>2.3</td>\n",
       "      <td>0.092</td>\n",
       "      <td>15</td>\n",
       "      <td>54</td>\n",
       "      <td>0.997</td>\n",
       "      <td>3.26</td>\n",
       "      <td>0.65</td>\n",
       "      <td>9.8</td>\n",
       "      <td>5</td>\n",
       "    </tr>\n",
       "    <tr>\n",
       "      <th>3</th>\n",
       "      <td>11.2</td>\n",
       "      <td>0.28</td>\n",
       "      <td>0.56</td>\n",
       "      <td>1.9</td>\n",
       "      <td>0.075</td>\n",
       "      <td>17</td>\n",
       "      <td>60</td>\n",
       "      <td>0.998</td>\n",
       "      <td>3.16</td>\n",
       "      <td>0.58</td>\n",
       "      <td>9.8</td>\n",
       "      <td>6</td>\n",
       "    </tr>\n",
       "    <tr>\n",
       "      <th>4</th>\n",
       "      <td>7.4</td>\n",
       "      <td>0.7</td>\n",
       "      <td>0</td>\n",
       "      <td>1.9</td>\n",
       "      <td>0.076</td>\n",
       "      <td>11</td>\n",
       "      <td>34</td>\n",
       "      <td>0.9978</td>\n",
       "      <td>3.51</td>\n",
       "      <td>0.56</td>\n",
       "      <td>9.4</td>\n",
       "      <td>5</td>\n",
       "    </tr>\n",
       "  </tbody>\n",
       "</table>\n",
       "</div>"
      ],
      "text/plain": [
       "  fixed_acidity volatile_acidity citric_acid residual_sugar chlorides  \\\n",
       "0           7.4              0.7           0            1.9     0.076   \n",
       "1           7.8             0.88           0            2.6     0.098   \n",
       "2           7.8             0.76        0.04            2.3     0.092   \n",
       "3          11.2             0.28        0.56            1.9     0.075   \n",
       "4           7.4              0.7           0            1.9     0.076   \n",
       "\n",
       "  free_sulfur_dioxide total_sulfur_dioxide density    pH sulphates alcohol  \\\n",
       "0                  11                   34  0.9978  3.51      0.56     9.4   \n",
       "1                  25                   67  0.9968   3.2      0.68     9.8   \n",
       "2                  15                   54   0.997  3.26      0.65     9.8   \n",
       "3                  17                   60   0.998  3.16      0.58     9.8   \n",
       "4                  11                   34  0.9978  3.51      0.56     9.4   \n",
       "\n",
       "  quality  \n",
       "0       5  \n",
       "1       5  \n",
       "2       5  \n",
       "3       6  \n",
       "4       5  "
      ]
     },
     "execution_count": 163,
     "metadata": {},
     "output_type": "execute_result"
    }
   ],
   "source": [
    "df.head()"
   ]
  },
  {
   "cell_type": "code",
   "execution_count": 164,
   "id": "1e5a729c-ab0e-4855-bb30-82b2bb7403cf",
   "metadata": {},
   "outputs": [],
   "source": [
    "import matplotlib.pyplot as plt"
   ]
  },
  {
   "cell_type": "code",
   "execution_count": 165,
   "id": "192b083b-b706-4dd6-a847-d9795f47ba3b",
   "metadata": {},
   "outputs": [],
   "source": [
    "df['quality'] = df['quality'].astype('int64')\n",
    "df['fixed_acidity'] = df['fixed_acidity'].astype('float')"
   ]
  },
  {
   "cell_type": "code",
   "execution_count": 166,
   "id": "bc15db3f-a328-4674-ae3f-991181d2be3a",
   "metadata": {},
   "outputs": [
    {
     "data": {
      "text/plain": [
       "<matplotlib.collections.PathCollection at 0x152b54270640>"
      ]
     },
     "execution_count": 166,
     "metadata": {},
     "output_type": "execute_result"
    },
    {
     "data": {
      "image/png": "[encoded data removed]",
      "text/plain": [
       "<Figure size 432x288 with 1 Axes>"
      ]
     },
     "metadata": {
      "needs_background": "light"
     },
     "output_type": "display_data"
    }
   ],
   "source": [
    "plt.scatter(df['fixed_acidity'], df['quality'])"
   ]
  },
  {
   "cell_type": "code",
   "execution_count": 167,
   "id": "8d957f00-3c05-478f-b7ea-d14210254738",
   "metadata": {},
   "outputs": [
    {
     "name": "stdout",
     "output_type": "stream",
     "text": [
      "0.03189529631357679\n"
     ]
    }
   ],
   "source": [
    "from sklearn.model_selection import train_test_split\n",
    "from sklearn.linear_model import LinearRegression\n",
    "\n",
    "\n",
    "X = np.array(df['fixed_acidity']).reshape(-1, 1)\n",
    "y = np.array(df['quality']).reshape(-1, 1)\n",
    "\n",
    "X_train, X_test, y_train, y_test = train_test_split(X, y, test_size = 0.25)\n",
    "regr = LinearRegression().fit(X_train, y_train)\n",
    "\n",
    "print(regr.score(X_test, y_test))"
   ]
  },
  {
   "cell_type": "code",
   "execution_count": 168,
   "id": "ef963ec3-4ced-4bb7-9184-cc327ee78e8d",
   "metadata": {},
   "outputs": [
    {
     "name": "stdout",
     "output_type": "stream",
     "text": [
      "Mean MAE: 0.674 (0.038)\n"
     ]
    }
   ],
   "source": [
    "cv = RepeatedKFold(n_splits=10, n_repeats=3, random_state=1)\n",
    "# evaluate model\n",
    "scores = cross_val_score(regr, X, y, scoring='neg_mean_absolute_error', cv=cv, n_jobs=-1)\n",
    "# force scores to be positive\n",
    "scores = absolute(scores)\n",
    "print('Mean MAE: %.3f (%.3f)' % (mean(scores), std(scores)))"
   ]
  },
  {
   "cell_type": "code",
   "execution_count": 169,
   "id": "f6872813-bb4f-4757-9524-b90640276f14",
   "metadata": {},
   "outputs": [
    {
     "data": {
      "image/png": "[encoded data removed]",
      "text/plain": [
       "<Figure size 432x288 with 1 Axes>"
      ]
     },
     "metadata": {
      "needs_background": "light"
     },
     "output_type": "display_data"
    }
   ],
   "source": [
    "y_pred = regr.predict(X_test)\n",
    "plt.scatter(X_test, y_test, color ='b')\n",
    "plt.plot(X_test, y_pred, color ='k')\n",
    "  \n",
    "plt.show()"
   ]
  },
  {
   "cell_type": "code",
   "execution_count": 170,
   "id": "e7cb4b7e-fb73-4046-891d-61ae1d0afe58",
   "metadata": {},
   "outputs": [],
   "source": [
    "def convert(col_name):\n",
    "    df[col_name] = df[col_name].astype('float')\n",
    "    \n",
    "for col in cols[:-1]:\n",
    "    convert(col)"
   ]
  },
  {
   "cell_type": "code",
   "execution_count": 171,
   "id": "18da66a7-61dc-4a40-8ca4-444b5cda7538",
   "metadata": {},
   "outputs": [],
   "source": [
    "X = df.drop('quality', axis=1)\n",
    "y = df['quality']\n",
    "\n",
    "X_train, X_test, y_train, y_test = train_test_split(X, y, test_size=0.3, random_state=101)"
   ]
  },
  {
   "cell_type": "code",
   "execution_count": 172,
   "id": "6b451532-8c64-46d7-a4ab-efe69e3d021b",
   "metadata": {},
   "outputs": [],
   "source": [
    "regr = LinearRegression().fit(X_train, y_train)"
   ]
  },
  {
   "cell_type": "code",
   "execution_count": 173,
   "id": "60c6d18f-3914-4211-9575-54db4d5a04eb",
   "metadata": {},
   "outputs": [
    {
     "name": "stdout",
     "output_type": "stream",
     "text": [
      "Mean MAE: 0.505 (0.031)\n"
     ]
    }
   ],
   "source": [
    "cv = RepeatedKFold(n_splits=10, n_repeats=3, random_state=1)\n",
    "# evaluate model\n",
    "scores = cross_val_score(regr, X, y, scoring='neg_mean_absolute_error', cv=cv, n_jobs=-1)\n",
    "# force scores to be positive\n",
    "scores = absolute(scores)\n",
    "print('Mean MAE: %.3f (%.3f)' % (mean(scores), std(scores)))"
   ]
  },
  {
   "cell_type": "code",
   "execution_count": 174,
   "id": "d655fd0c-fd32-42a5-b16b-d3cd04413679",
   "metadata": {},
   "outputs": [
    {
     "name": "stdout",
     "output_type": "stream",
     "text": [
      "0.3036354976803991\n"
     ]
    }
   ],
   "source": [
    "print(regr.score(X_test, y_test))"
   ]
  },
  {
   "cell_type": "code",
   "execution_count": 175,
   "id": "578e7f7d-5934-4c32-988a-46e4c9c2b8e2",
   "metadata": {},
   "outputs": [],
   "source": [
    "#4 hyperparamters: Degree of polynomial, type of regularization, regularization term, and learning rate"
   ]
  },
  {
   "cell_type": "code",
   "execution_count": 176,
   "id": "50e53446-ceea-4e6c-9e3d-9c2fe07e424a",
   "metadata": {},
   "outputs": [],
   "source": [
    "#Ridge regression:"
   ]
  },
  {
   "cell_type": "code",
   "execution_count": 177,
   "id": "1e9745e2-dd42-43f3-929a-f85755a45aa9",
   "metadata": {},
   "outputs": [],
   "source": [
    "from sklearn.model_selection import cross_val_score\n",
    "from sklearn.model_selection import RepeatedKFold\n",
    "from sklearn.linear_model import Ridge\n",
    "from numpy import mean\n",
    "from numpy import std\n",
    "from numpy import absolute\n",
    "# load the dataset"
   ]
  },
  {
   "cell_type": "code",
   "execution_count": 185,
   "id": "77a6f975-3a68-44f7-9543-d53c68a1aee4",
   "metadata": {},
   "outputs": [
    {
     "name": "stdout",
     "output_type": "stream",
     "text": [
      "Mean MAE: 0.505 (0.032)\n"
     ]
    }
   ],
   "source": [
    "# define model\n",
    "model = Ridge(alpha=1.0)\n",
    "# define model evaluation method\n",
    "cv = RepeatedKFold(n_splits=10, n_repeats=3, random_state=1)\n",
    "# evaluate model\n",
    "scores = cross_val_score(model, X, y, scoring='neg_mean_absolute_error', cv=cv, n_jobs=-1)\n",
    "# force scores to be positive\n",
    "scores = absolute(scores)\n",
    "print('Mean MAE: %.3f (%.3f)' % (mean(scores), std(scores)))"
   ]
  },
  {
   "cell_type": "code",
   "execution_count": null,
   "id": "31968e78-8665-4ae9-b9b4-d94735a02541",
   "metadata": {},
   "outputs": [],
   "source": [
    "#Same model but this time, square all the values"
   ]
  },
  {
   "cell_type": "code",
   "execution_count": 186,
   "id": "75240d93-dfb8-4b79-852d-e27063d3ac08",
   "metadata": {},
   "outputs": [],
   "source": [
    "from sklearn.preprocessing import PolynomialFeatures"
   ]
  },
  {
   "cell_type": "code",
   "execution_count": 196,
   "id": "deb2774b-9229-4fe8-825c-6d1a825a30c6",
   "metadata": {},
   "outputs": [],
   "source": [
    "polynomial_features= PolynomialFeatures(degree=2)\n",
    "x_poly = polynomial_features.fit_transform(X)"
   ]
  },
  {
   "cell_type": "code",
   "execution_count": 197,
   "id": "25dfe587-8834-412f-bba5-17ca7b71c0bc",
   "metadata": {},
   "outputs": [
    {
     "name": "stdout",
     "output_type": "stream",
     "text": [
      "Mean MAE: 0.498 (0.030)\n"
     ]
    }
   ],
   "source": [
    "# define model\n",
    "model = Ridge(alpha=1.0)\n",
    "# define model evaluation method\n",
    "cv = RepeatedKFold(n_splits=10, n_repeats=3, random_state=1)\n",
    "# evaluate model\n",
    "scores = cross_val_score(model, x_poly, y, scoring='neg_mean_absolute_error', cv=cv, n_jobs=-1)\n",
    "# force scores to be positive\n",
    "scores = absolute(scores)\n",
    "print('Mean MAE: %.3f (%.3f)' % (mean(scores), std(scores)))"
   ]
  },
  {
   "cell_type": "code",
   "execution_count": 206,
   "id": "0c7f5b5e-b29f-4f52-8c4f-ca0d133af688",
   "metadata": {},
   "outputs": [
    {
     "name": "stdout",
     "output_type": "stream",
     "text": [
      "Lambda: \n",
      "0.0\n",
      "Mean MAE: 0.505 (0.032)\n",
      "\n",
      "Lambda: \n",
      "0.25\n",
      "Mean MAE: 0.499 (0.031)\n",
      "\n",
      "Lambda: \n",
      "0.5\n",
      "Mean MAE: 0.498 (0.030)\n",
      "\n",
      "Lambda: \n",
      "0.75\n",
      "Mean MAE: 0.498 (0.030)\n",
      "\n",
      "Lambda: \n",
      "1.0\n",
      "Mean MAE: 0.498 (0.030)\n",
      "\n",
      "Lambda: \n",
      "1.25\n",
      "Mean MAE: 0.498 (0.030)\n",
      "\n",
      "Lambda: \n",
      "1.5\n",
      "Mean MAE: 0.497 (0.030)\n",
      "\n",
      "Lambda: \n",
      "1.75\n",
      "Mean MAE: 0.497 (0.030)\n",
      "\n",
      "Lambda: \n",
      "2.0\n",
      "Mean MAE: 0.497 (0.030)\n",
      "\n",
      "Lambda: \n",
      "2.25\n",
      "Mean MAE: 0.497 (0.030)\n",
      "\n",
      "Lambda: \n",
      "2.5\n",
      "Mean MAE: 0.497 (0.030)\n",
      "\n",
      "Lambda: \n",
      "2.75\n",
      "Mean MAE: 0.497 (0.030)\n",
      "\n",
      "Lambda: \n",
      "3.0\n",
      "Mean MAE: 0.497 (0.030)\n",
      "\n",
      "Lambda: \n",
      "3.25\n",
      "Mean MAE: 0.497 (0.030)\n",
      "\n",
      "Lambda: \n",
      "3.5\n",
      "Mean MAE: 0.497 (0.030)\n",
      "\n",
      "Lambda: \n",
      "3.75\n",
      "Mean MAE: 0.497 (0.030)\n",
      "\n",
      "Lambda: \n",
      "4.0\n",
      "Mean MAE: 0.497 (0.030)\n",
      "\n",
      "Lambda: \n",
      "4.25\n",
      "Mean MAE: 0.497 (0.030)\n",
      "\n",
      "Lambda: \n",
      "4.5\n",
      "Mean MAE: 0.497 (0.030)\n",
      "\n",
      "Lambda: \n",
      "4.75\n",
      "Mean MAE: 0.497 (0.030)\n",
      "\n",
      "Lambda: \n",
      "5.0\n",
      "Mean MAE: 0.497 (0.030)\n",
      "\n",
      "Lambda: \n",
      "5.25\n",
      "Mean MAE: 0.497 (0.030)\n",
      "\n",
      "Lambda: \n",
      "5.5\n",
      "Mean MAE: 0.497 (0.030)\n",
      "\n",
      "Lambda: \n",
      "5.75\n",
      "Mean MAE: 0.497 (0.030)\n",
      "\n",
      "Lambda: \n",
      "6.0\n",
      "Mean MAE: 0.497 (0.030)\n",
      "\n",
      "Lambda: \n",
      "6.25\n",
      "Mean MAE: 0.497 (0.030)\n",
      "\n",
      "Lambda: \n",
      "6.5\n",
      "Mean MAE: 0.497 (0.030)\n",
      "\n",
      "Lambda: \n",
      "6.75\n",
      "Mean MAE: 0.497 (0.030)\n",
      "\n",
      "Lambda: \n",
      "7.0\n",
      "Mean MAE: 0.497 (0.030)\n",
      "\n",
      "Lambda: \n",
      "7.25\n",
      "Mean MAE: 0.497 (0.030)\n",
      "\n",
      "Lambda: \n",
      "7.5\n",
      "Mean MAE: 0.497 (0.030)\n",
      "\n",
      "Lambda: \n",
      "7.75\n",
      "Mean MAE: 0.497 (0.030)\n",
      "\n",
      "Lambda: \n",
      "8.0\n",
      "Mean MAE: 0.497 (0.030)\n",
      "\n",
      "Lambda: \n",
      "8.25\n",
      "Mean MAE: 0.497 (0.030)\n",
      "\n",
      "Lambda: \n",
      "8.5\n",
      "Mean MAE: 0.497 (0.030)\n",
      "\n",
      "Lambda: \n",
      "8.75\n",
      "Mean MAE: 0.497 (0.030)\n",
      "\n",
      "Lambda: \n",
      "9.0\n",
      "Mean MAE: 0.497 (0.030)\n",
      "\n",
      "Lambda: \n",
      "9.25\n",
      "Mean MAE: 0.497 (0.030)\n",
      "\n",
      "Lambda: \n",
      "9.5\n",
      "Mean MAE: 0.497 (0.030)\n",
      "\n",
      "Lambda: \n",
      "9.75\n",
      "Mean MAE: 0.497 (0.030)\n",
      "\n",
      "Lambda: \n",
      "10.0\n",
      "Mean MAE: 0.497 (0.030)\n",
      "\n",
      "Lambda: \n",
      "10.25\n",
      "Mean MAE: 0.497 (0.030)\n",
      "\n",
      "Lambda: \n",
      "10.5\n",
      "Mean MAE: 0.497 (0.030)\n",
      "\n",
      "Lambda: \n",
      "10.75\n",
      "Mean MAE: 0.497 (0.030)\n",
      "\n",
      "Lambda: \n",
      "11.0\n",
      "Mean MAE: 0.497 (0.030)\n",
      "\n",
      "Lambda: \n",
      "11.25\n",
      "Mean MAE: 0.497 (0.030)\n",
      "\n",
      "Lambda: \n",
      "11.5\n",
      "Mean MAE: 0.497 (0.030)\n",
      "\n",
      "Lambda: \n",
      "11.75\n",
      "Mean MAE: 0.497 (0.030)\n",
      "\n",
      "Lambda: \n",
      "12.0\n",
      "Mean MAE: 0.497 (0.030)\n",
      "\n",
      "Lambda: \n",
      "12.25\n",
      "Mean MAE: 0.497 (0.030)\n",
      "\n",
      "Lambda: \n",
      "12.5\n",
      "Mean MAE: 0.497 (0.030)\n",
      "\n",
      "Lambda: \n",
      "12.75\n",
      "Mean MAE: 0.497 (0.030)\n",
      "\n",
      "Lambda: \n",
      "13.0\n",
      "Mean MAE: 0.497 (0.030)\n",
      "\n",
      "Lambda: \n",
      "13.25\n",
      "Mean MAE: 0.497 (0.030)\n",
      "\n",
      "Lambda: \n",
      "13.5\n",
      "Mean MAE: 0.497 (0.030)\n",
      "\n",
      "Lambda: \n",
      "13.75\n",
      "Mean MAE: 0.497 (0.030)\n",
      "\n",
      "Lambda: \n",
      "14.0\n",
      "Mean MAE: 0.497 (0.030)\n",
      "\n",
      "Lambda: \n",
      "14.25\n",
      "Mean MAE: 0.497 (0.030)\n",
      "\n",
      "Lambda: \n",
      "14.5\n",
      "Mean MAE: 0.497 (0.030)\n",
      "\n",
      "Lambda: \n",
      "14.75\n",
      "Mean MAE: 0.497 (0.030)\n",
      "\n",
      "Lambda: \n",
      "15.0\n",
      "Mean MAE: 0.497 (0.030)\n",
      "\n",
      "Lambda: \n",
      "15.25\n",
      "Mean MAE: 0.497 (0.030)\n",
      "\n",
      "Lambda: \n",
      "15.5\n",
      "Mean MAE: 0.498 (0.030)\n",
      "\n",
      "Lambda: \n",
      "15.75\n",
      "Mean MAE: 0.498 (0.030)\n",
      "\n",
      "Lambda: \n",
      "16.0\n",
      "Mean MAE: 0.498 (0.030)\n",
      "\n",
      "Lambda: \n",
      "16.25\n",
      "Mean MAE: 0.498 (0.030)\n",
      "\n",
      "Lambda: \n",
      "16.5\n",
      "Mean MAE: 0.498 (0.030)\n",
      "\n",
      "Lambda: \n",
      "16.75\n",
      "Mean MAE: 0.498 (0.030)\n",
      "\n",
      "Lambda: \n",
      "17.0\n",
      "Mean MAE: 0.498 (0.030)\n",
      "\n",
      "Lambda: \n",
      "17.25\n",
      "Mean MAE: 0.498 (0.030)\n",
      "\n",
      "Lambda: \n",
      "17.5\n",
      "Mean MAE: 0.498 (0.030)\n",
      "\n",
      "Lambda: \n",
      "17.75\n",
      "Mean MAE: 0.498 (0.030)\n",
      "\n",
      "Lambda: \n",
      "18.0\n",
      "Mean MAE: 0.498 (0.030)\n",
      "\n",
      "Lambda: \n",
      "18.25\n",
      "Mean MAE: 0.498 (0.030)\n",
      "\n",
      "Lambda: \n",
      "18.5\n",
      "Mean MAE: 0.498 (0.030)\n",
      "\n",
      "Lambda: \n",
      "18.75\n",
      "Mean MAE: 0.498 (0.030)\n",
      "\n",
      "Lambda: \n",
      "19.0\n",
      "Mean MAE: 0.498 (0.030)\n",
      "\n",
      "Lambda: \n",
      "19.25\n",
      "Mean MAE: 0.498 (0.030)\n",
      "\n",
      "Lambda: \n",
      "19.5\n",
      "Mean MAE: 0.498 (0.030)\n",
      "\n",
      "Lambda: \n",
      "19.75\n",
      "Mean MAE: 0.498 (0.030)\n",
      "\n"
     ]
    }
   ],
   "source": [
    "for j in np.arange(0, 20, 0.25):\n",
    "    print(\"Lambda: \")\n",
    "    print(j)\n",
    "\n",
    "    polynomial_features= PolynomialFeatures(degree=2)\n",
    "    x_poly = polynomial_features.fit_transform(X)\n",
    "\n",
    "    # define model\n",
    "    model = Ridge(alpha=j)\n",
    "    # define model evaluation method\n",
    "    cv = RepeatedKFold(n_splits=10, n_repeats=3, random_state=1)\n",
    "    # evaluate model\n",
    "    scores = cross_val_score(model, x_poly, y, scoring='neg_mean_absolute_error', cv=cv, n_jobs=-1)\n",
    "    # force scores to be positive\n",
    "    scores = absolute(scores)\n",
    "    print('Mean MAE: %.3f (%.3f)' % (mean(scores), std(scores)))\n",
    "    print()"
   ]
  },
  {
   "cell_type": "code",
   "execution_count": null,
   "id": "721caa8a-df37-4a13-b19c-e127571d2f07",
   "metadata": {},
   "outputs": [],
   "source": []
  }
 ],
 "metadata": {
  "kernelspec": {
   "display_name": "Python 3.8",
   "language": "python",
   "name": "python3"
  },
  "language_info": {
   "codemirror_mode": {
    "name": "ipython",
    "version": 3
   },
   "file_extension": ".py",
   "mimetype": "text/x-python",
   "name": "python",
   "nbconvert_exporter": "python",
   "pygments_lexer": "ipython3",
   "version": "3.8.6"
  }
 },
 "nbformat": 4,
 "nbformat_minor": 5
}
